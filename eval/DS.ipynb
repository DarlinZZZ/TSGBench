{
 "cells": [
  {
   "cell_type": "code",
   "id": "initial_id",
   "metadata": {
    "collapsed": true,
    "ExecuteTime": {
     "end_time": "2024-11-04T13:24:25.031790Z",
     "start_time": "2024-11-04T13:24:25.021536Z"
    }
   },
   "source": [
    "import numpy as np\n",
    "import tensorflow as tf\n",
    "from sklearn.metrics import accuracy_score"
   ],
   "outputs": [],
   "execution_count": 2
  },
  {
   "metadata": {
    "ExecuteTime": {
     "end_time": "2024-11-04T13:53:24.858419Z",
     "start_time": "2024-11-04T13:53:24.847517Z"
    }
   },
   "cell_type": "code",
   "source": [
    "# wrong order + right relation = 0.16666666666666669\n",
    "s1 = np.array([\n",
    "    [[20, 10, 0], [50, 30, 100]],\n",
    "    [[50, 30, 100], [180, 20, 20]],\n",
    "    [[180, 20, 20], [30, 15, 0]]\n",
    "], dtype=np.double)\n",
    "\n",
    "s2 = np.array([\n",
    "    [[180, 20, 20], [20, 10, 5]],\n",
    "    [[20, 10, 5], [30, 16, 1]],\n",
    "    [[30, 16, 1], [50, 29, 120]]\n",
    "], dtype=np.double)"
   ],
   "id": "7655bcca1f73d43f",
   "outputs": [],
   "execution_count": 79
  },
  {
   "metadata": {
    "ExecuteTime": {
     "end_time": "2024-11-04T13:53:11.890768Z",
     "start_time": "2024-11-04T13:53:11.872757Z"
    }
   },
   "cell_type": "code",
   "source": [
    "# right order + right relation = 0.0\n",
    "s1 = np.array([\n",
    "    [[20, 10, 0], [50, 30, 100]],\n",
    "    [[50, 30, 100], [180, 20, 20]],\n",
    "    [[180, 20, 20], [30, 15, 0]]\n",
    "], dtype=np.double)\n",
    "\n",
    "s2 = np.array([\n",
    "    [[18, 12, 5], [47, 35, 110]],\n",
    "    [[47, 35, 110], [200, 18, 40]],\n",
    "    [[200, 18, 40], [30, 9, 4]]\n",
    "], dtype=np.double)"
   ],
   "id": "9af588f36bc25b8a",
   "outputs": [],
   "execution_count": 69
  },
  {
   "metadata": {
    "ExecuteTime": {
     "end_time": "2024-11-04T13:53:01.508492Z",
     "start_time": "2024-11-04T13:53:01.492389Z"
    }
   },
   "cell_type": "code",
   "source": [
    "# right order + wrong relation = 0.16666666666666663\n",
    "s1 = np.array([\n",
    "    [[20, 10, 0], [50, 30, 100]],\n",
    "    [[50, 30, 100], [180, 20, 20]],\n",
    "    [[180, 20, 20], [30, 15, 0]]\n",
    "], dtype=np.double)\n",
    "\n",
    "s2 = np.array([\n",
    "    [[20, 10, 20], [180, 20, 100]],\n",
    "    [[180, 20, 100], [50, 35, 40]],\n",
    "    [[50, 35, 40], [30, 15, 30]]\n",
    "], dtype=np.double)"
   ],
   "id": "489e27c7cbccb84e",
   "outputs": [],
   "execution_count": 60
  },
  {
   "metadata": {
    "ExecuteTime": {
     "end_time": "2024-11-04T13:53:32.141775Z",
     "start_time": "2024-11-04T13:53:32.127759Z"
    }
   },
   "cell_type": "code",
   "source": [
    "# tf.reset_default_graph()\n",
    "    \n",
    "# 获取数据形状\n",
    "no, seq_len, dim = np.asarray(s1).shape    \n",
    "    \n",
    "# 提取时间步数\n",
    "ori_time = np.array([seq_len] * no)\n",
    "generated_time = np.array([seq_len] * no)\n",
    "max_seq_len = seq_len\n",
    "    \n",
    "# 网络参数\n",
    "hidden_dim = int(dim / 2)"
   ],
   "id": "260eef2d7615ce86",
   "outputs": [],
   "execution_count": 81
  },
  {
   "metadata": {
    "ExecuteTime": {
     "end_time": "2024-11-04T13:53:32.157261Z",
     "start_time": "2024-11-04T13:53:32.146951Z"
    }
   },
   "cell_type": "code",
   "source": [
    "rnn_name = 'gru'\n",
    "model = tf.keras.Sequential()\n",
    "rnn_layer = tf.keras.layers.GRU(hidden_dim, activation='tanh', name='d_cell')\n",
    "\n",
    "model.add(rnn_layer)\n",
    "model.add(tf.keras.layers.Dense(1, activation='sigmoid'))\n",
    "\n",
    "model.compile(optimizer=tf.keras.optimizers.Adam(), loss=tf.keras.losses.BinaryCrossentropy)"
   ],
   "id": "bcd65b8e02d2a605",
   "outputs": [],
   "execution_count": 82
  },
  {
   "metadata": {
    "ExecuteTime": {
     "end_time": "2024-11-04T13:53:32.188053Z",
     "start_time": "2024-11-04T13:53:32.173871Z"
    }
   },
   "cell_type": "code",
   "source": [
    "# 标签：1 表示真实数据，0 表示生成数据\n",
    "y_real = np.ones((no, 1))\n",
    "y_fake = np.zeros((no, 1))"
   ],
   "id": "b4e45ff4ba939c9b",
   "outputs": [],
   "execution_count": 83
  },
  {
   "metadata": {
    "ExecuteTime": {
     "end_time": "2024-11-04T13:54:29.450457Z",
     "start_time": "2024-11-04T13:54:29.440408Z"
    }
   },
   "cell_type": "code",
   "source": [
    " # 合并数据\n",
    "X_train = np.concatenate([s1, s2], axis=0)\n",
    "# print(X_train.shape)\n",
    "# print(X_train)\n",
    "\n",
    "y_train = np.concatenate([y_real, y_fake], axis=0)\n",
    "# print(y_train.shape)\n",
    "# print(y_train)"
   ],
   "id": "5a39b52412af9dbb",
   "outputs": [],
   "execution_count": 89
  },
  {
   "metadata": {
    "ExecuteTime": {
     "end_time": "2024-11-04T13:53:33.382704Z",
     "start_time": "2024-11-04T13:53:32.235329Z"
    }
   },
   "cell_type": "code",
   "source": [
    " # 训练判别器\n",
    "iterations = 10\n",
    "model.fit(X_train, y_train, epochs=iterations, batch_size=no, verbose=0)\n",
    "    "
   ],
   "id": "313ed8cffe1c98e0",
   "outputs": [
    {
     "data": {
      "text/plain": [
       "<keras.src.callbacks.history.History at 0x27d209b79d0>"
      ]
     },
     "execution_count": 85,
     "metadata": {},
     "output_type": "execute_result"
    }
   ],
   "execution_count": 85
  },
  {
   "metadata": {
    "ExecuteTime": {
     "end_time": "2024-11-04T13:53:33.584786Z",
     "start_time": "2024-11-04T13:53:33.392792Z"
    }
   },
   "cell_type": "code",
   "source": [
    "# 测试集上计算结果\n",
    "y_pred_real = model.predict(s1)\n",
    "print(y_pred_real)\n",
    "y_pred_fake = model.predict(s2)\n",
    "print(y_pred_fake)"
   ],
   "id": "d139997c92dedecc",
   "outputs": [
    {
     "name": "stdout",
     "output_type": "stream",
     "text": [
      "\u001B[1m1/1\u001B[0m \u001B[32m━━━━━━━━━━━━━━━━━━━━\u001B[0m\u001B[37m\u001B[0m \u001B[1m0s\u001B[0m 111ms/step\n",
      "[[0.22656076]\n",
      " [0.22658843]\n",
      " [0.7583976 ]]\n",
      "\u001B[1m1/1\u001B[0m \u001B[32m━━━━━━━━━━━━━━━━━━━━\u001B[0m\u001B[37m\u001B[0m \u001B[1m0s\u001B[0m 12ms/step\n",
      "[[0.73299974]\n",
      " [0.7735896 ]\n",
      " [0.22685586]]\n"
     ]
    }
   ],
   "execution_count": 86
  },
  {
   "metadata": {
    "ExecuteTime": {
     "end_time": "2024-11-04T13:53:33.615598Z",
     "start_time": "2024-11-04T13:53:33.601048Z"
    }
   },
   "cell_type": "code",
   "source": [
    "# 拼接真实和伪造数据的预测结果\n",
    "y_pred_final = np.squeeze(np.concatenate((y_pred_real, y_pred_fake), axis=0))\n",
    "y_label_final = np.concatenate((np.ones([len(y_pred_real),]), np.zeros([len(y_pred_fake),])), axis=0)\n"
   ],
   "id": "6c7054f2ac0a9a95",
   "outputs": [],
   "execution_count": 87
  },
  {
   "metadata": {
    "ExecuteTime": {
     "end_time": "2024-11-04T13:53:33.646718Z",
     "start_time": "2024-11-04T13:53:33.632649Z"
    }
   },
   "cell_type": "code",
   "source": [
    "# 计算准确率 (lower better)\n",
    "acc = accuracy_score(y_label_final, (y_pred_final > 0.5))\n",
    "discriminative_score = np.abs(0.5 - acc)\n",
    "print(discriminative_score)"
   ],
   "id": "a5750f72e772fcb",
   "outputs": [
    {
     "name": "stdout",
     "output_type": "stream",
     "text": [
      "0.16666666666666669\n"
     ]
    }
   ],
   "execution_count": 88
  }
 ],
 "metadata": {
  "kernelspec": {
   "display_name": "Python 3",
   "language": "python",
   "name": "python3"
  },
  "language_info": {
   "codemirror_mode": {
    "name": "ipython",
    "version": 2
   },
   "file_extension": ".py",
   "mimetype": "text/x-python",
   "name": "python",
   "nbconvert_exporter": "python",
   "pygments_lexer": "ipython2",
   "version": "2.7.6"
  }
 },
 "nbformat": 4,
 "nbformat_minor": 5
}
