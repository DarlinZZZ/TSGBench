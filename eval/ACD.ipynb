{
 "cells": [
  {
   "metadata": {},
   "cell_type": "code",
   "outputs": [],
   "execution_count": null,
   "source": [
    "'''\n",
    "ACD - best for relation detection\n",
    "'''"
   ],
   "id": "afd38dba7b40be26"
  },
  {
   "metadata": {
    "ExecuteTime": {
     "end_time": "2024-11-04T07:59:42.388136Z",
     "start_time": "2024-11-04T07:59:42.304586Z"
    }
   },
   "cell_type": "code",
   "source": "import numpy as np",
   "id": "efd08e23a2695ba7",
   "outputs": [],
   "execution_count": 2
  },
  {
   "metadata": {
    "ExecuteTime": {
     "end_time": "2024-11-04T08:22:40.918347Z",
     "start_time": "2024-11-04T08:22:40.904390Z"
    }
   },
   "cell_type": "code",
   "source": [
    "# wrong order + right relation = 0.606\n",
    "s1 = np.array([\n",
    "    [[20, 10, 0], [50, 30, 100]], \n",
    "    [[50, 30, 100], [180, 20, 20]], \n",
    "    [[180, 20, 20], [30, 15, 0]]\n",
    "], dtype=np.double)\n",
    "\n",
    "s2 = np.array([\n",
    "    [[180, 20, 20], [20, 10, 5]], \n",
    "    [[20, 10, 5], [30, 16, 1]], \n",
    "    [[30, 16, 1], [50, 29, 120]]\n",
    "], dtype=np.double)"
   ],
   "id": "8bfd073416680dc4",
   "outputs": [],
   "execution_count": 31
  },
  {
   "metadata": {
    "ExecuteTime": {
     "end_time": "2024-11-04T08:22:28.163404Z",
     "start_time": "2024-11-04T08:22:28.147693Z"
    }
   },
   "cell_type": "code",
   "source": [
    "# right order + right relation = 0.307\n",
    "s1 = np.array([\n",
    "    [[20, 10, 0], [50, 30, 100]], \n",
    "    [[50, 30, 100], [180, 20, 20]], \n",
    "    [[180, 20, 20], [30, 15, 0]]\n",
    "], dtype=np.double)\n",
    "\n",
    "s2 = np.array([\n",
    "    [[18, 12, 5], [47, 35, 110]], \n",
    "    [[47, 35, 110], [200, 18, 40]], \n",
    "    [[200, 18, 40], [30, 9, 4]]\n",
    "], dtype=np.double)"
   ],
   "id": "dc8a57f211dbafd5",
   "outputs": [],
   "execution_count": 28
  },
  {
   "metadata": {
    "ExecuteTime": {
     "end_time": "2024-11-04T07:59:44.490883Z",
     "start_time": "2024-11-04T07:59:44.483185Z"
    }
   },
   "cell_type": "code",
   "source": [
    "# right order + wrong relation = 2.135\n",
    "s1 = np.array([\n",
    "    [[20, 10, 0], [50, 30, 100]], \n",
    "    [[50, 30, 100], [180, 20, 20]], \n",
    "    [[180, 20, 20], [30, 15, 0]]\n",
    "], dtype=np.double)\n",
    "\n",
    "s2 = np.array([\n",
    "    [[20, 10, 20], [180, 20, 100]], \n",
    "    [[180, 20, 100], [50, 35, 40]], \n",
    "    [[50, 35, 40], [30, 15, 30]]\n",
    "], dtype=np.double)"
   ],
   "id": "30fffe1cca2b90ac",
   "outputs": [],
   "execution_count": 3
  },
  {
   "metadata": {
    "ExecuteTime": {
     "end_time": "2024-11-04T08:22:48.255609Z",
     "start_time": "2024-11-04T08:22:48.239934Z"
    }
   },
   "cell_type": "code",
   "source": [
    "# calculate matrix\n",
    "def autocorrelation_matrix(data):\n",
    "    data_flat = data.reshape(-1, 3)  # 展平数据为 (N, 3) 形状\n",
    "    return np.corrcoef(data_flat, rowvar=False)\n",
    "\n",
    "autocorr_s1 = autocorrelation_matrix(s1)\n",
    "autocorr_s2 = autocorrelation_matrix(s2)\n",
    "print(autocorr_s1)\n",
    "print(autocorr_s2)"
   ],
   "id": "e5ae269f7a586499",
   "outputs": [
    {
     "name": "stdout",
     "output_type": "stream",
     "text": [
      "[[ 1.          0.07540693 -0.18151373]\n",
      " [ 0.07540693  1.          0.94956293]\n",
      " [-0.18151373  0.94956293  1.        ]]\n",
      "[[1.         0.38655248 0.10280828]\n",
      " [0.38655248 1.         0.87141575]\n",
      " [0.10280828 0.87141575 1.        ]]\n"
     ]
    }
   ],
   "execution_count": 33
  },
  {
   "metadata": {
    "ExecuteTime": {
     "end_time": "2024-11-04T08:22:49.906012Z",
     "start_time": "2024-11-04T08:22:49.892003Z"
    }
   },
   "cell_type": "code",
   "source": [
    "#  l2 to calculate ACD\n",
    "acd = np.sqrt(np.sum((autocorr_s1 - autocorr_s2) ** 2))\n",
    "print(\"自相关差异 (ACD):\", acd)"
   ],
   "id": "aae786c0c75961e3",
   "outputs": [
    {
     "name": "stdout",
     "output_type": "stream",
     "text": [
      "自相关差异 (ACD): 0.6062302177125646\n"
     ]
    }
   ],
   "execution_count": 34
  },
  {
   "metadata": {
    "ExecuteTime": {
     "end_time": "2024-11-04T08:02:54.826483Z",
     "start_time": "2024-11-04T08:02:54.815245Z"
    }
   },
   "cell_type": "code",
   "source": [
    "#  Frobenius to calculate ACD\n",
    "acd = np.linalg.norm(autocorr_s1 - autocorr_s2, ord='fro')\n",
    "\n",
    "print(\"自相关差异 (ACD):\", acd)"
   ],
   "id": "69efd08dc335959e",
   "outputs": [
    {
     "name": "stdout",
     "output_type": "stream",
     "text": [
      "自相关差异 (ACD): 0.6062302177125646\n"
     ]
    }
   ],
   "execution_count": 26
  }
 ],
 "metadata": {
  "kernelspec": {
   "display_name": "Python 3",
   "language": "python",
   "name": "python3"
  },
  "language_info": {
   "codemirror_mode": {
    "name": "ipython",
    "version": 2
   },
   "file_extension": ".py",
   "mimetype": "text/x-python",
   "name": "python",
   "nbconvert_exporter": "python",
   "pygments_lexer": "ipython2",
   "version": "2.7.6"
  }
 },
 "nbformat": 4,
 "nbformat_minor": 5
}
