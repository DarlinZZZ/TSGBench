{
 "cells": [
  {
   "metadata": {
    "ExecuteTime": {
     "end_time": "2024-11-04T07:56:04.781926Z",
     "start_time": "2024-11-04T07:56:04.778409Z"
    }
   },
   "cell_type": "code",
   "source": [
    "from dtaidistance import dtw_ndim\n",
    "import numpy as np\n",
    "import matplotlib.pyplot as plt"
   ],
   "id": "efd08e23a2695ba7",
   "outputs": [],
   "execution_count": 58
  },
  {
   "metadata": {
    "ExecuteTime": {
     "end_time": "2024-11-04T07:48:19.293564Z",
     "start_time": "2024-11-04T07:48:19.276410Z"
    }
   },
   "cell_type": "code",
   "source": [
    "# wrong order + right relation = 327\n",
    "s1 = np.array([\n",
    "    [[20, 10, 0], [50, 30, 100]], \n",
    "    [[50, 30, 100], [180, 20, 20]], \n",
    "    [[180, 20, 20], [30, 15, 0]]\n",
    "], dtype=np.double)\n",
    "\n",
    "s2 = np.array([\n",
    "    [[180, 20, 20], [20, 10, 5]], \n",
    "    [[20, 10, 5], [30, 16, 1]], \n",
    "    [[30, 16, 1], [50, 29, 120]]\n",
    "], dtype=np.double)"
   ],
   "id": "8bfd073416680dc4",
   "outputs": [],
   "execution_count": 49
  },
  {
   "metadata": {
    "ExecuteTime": {
     "end_time": "2024-11-04T07:48:00.448047Z",
     "start_time": "2024-11-04T07:48:00.431115Z"
    }
   },
   "cell_type": "code",
   "source": [
    "# right order + right relation = 44\n",
    "s1 = np.array([\n",
    "    [[20, 10, 0], [50, 30, 100]], \n",
    "    [[50, 30, 100], [180, 20, 20]], \n",
    "    [[180, 20, 20], [30, 15, 0]]\n",
    "], dtype=np.double)\n",
    "\n",
    "s2 = np.array([\n",
    "    [[18, 12, 5], [47, 35, 110]], \n",
    "    [[47, 35, 110], [200, 18, 40]], \n",
    "    [[200, 18, 40], [30, 9, 4]]\n",
    "], dtype=np.double)"
   ],
   "id": "dc8a57f211dbafd5",
   "outputs": [],
   "execution_count": 45
  },
  {
   "metadata": {
    "ExecuteTime": {
     "end_time": "2024-11-04T07:49:36.134450Z",
     "start_time": "2024-11-04T07:49:36.129895Z"
    }
   },
   "cell_type": "code",
   "source": [
    "# right order + wrong relation = 242\n",
    "s1 = np.array([\n",
    "    [[20, 10, 0], [50, 30, 100]], \n",
    "    [[50, 30, 100], [180, 20, 20]], \n",
    "    [[180, 20, 20], [30, 15, 0]]\n",
    "], dtype=np.double)\n",
    "\n",
    "s2 = np.array([\n",
    "    [[20, 10, 20], [180, 20, 100]], \n",
    "    [[180, 20, 100], [50, 35, 40]], \n",
    "    [[50, 35, 40], [30, 15, 30]]\n",
    "], dtype=np.double)"
   ],
   "id": "30fffe1cca2b90ac",
   "outputs": [],
   "execution_count": 53
  },
  {
   "metadata": {
    "ExecuteTime": {
     "end_time": "2024-11-04T07:49:37.769282Z",
     "start_time": "2024-11-04T07:49:37.756196Z"
    }
   },
   "cell_type": "code",
   "source": [
    "# DTW distance (lower better)\n",
    "distance = dtw_ndim.distance(s1, s2)\n",
    "print(\"DTW距离:\", distance)"
   ],
   "id": "276c35211c2921a8",
   "outputs": [],
   "execution_count": 54
  }
 ],
 "metadata": {
  "kernelspec": {
   "display_name": "Python 3",
   "language": "python",
   "name": "python3"
  },
  "language_info": {
   "codemirror_mode": {
    "name": "ipython",
    "version": 2
   },
   "file_extension": ".py",
   "mimetype": "text/x-python",
   "name": "python",
   "nbconvert_exporter": "python",
   "pygments_lexer": "ipython2",
   "version": "2.7.6"
  }
 },
 "nbformat": 4,
 "nbformat_minor": 5
}
