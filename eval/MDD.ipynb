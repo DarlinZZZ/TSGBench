{
 "cells": [
  {
   "metadata": {},
   "cell_type": "code",
   "outputs": [],
   "execution_count": null,
   "source": [
    "'''\n",
    "MDD shows the distribution of dataset, ignoring time series order \n",
    "'''"
   ],
   "id": "99d1f490c85991bb"
  },
  {
   "cell_type": "code",
   "id": "initial_id",
   "metadata": {
    "collapsed": true,
    "ExecuteTime": {
     "end_time": "2024-11-04T09:15:13.499635Z",
     "start_time": "2024-11-04T09:15:13.489566Z"
    }
   },
   "source": [
    "import numpy as np\n",
    "import torch\n",
    "import torch.nn as nn"
   ],
   "outputs": [],
   "execution_count": 61
  },
  {
   "metadata": {
    "ExecuteTime": {
     "end_time": "2024-11-04T09:11:31.226300Z",
     "start_time": "2024-11-04T09:11:31.220258Z"
    }
   },
   "cell_type": "code",
   "source": [
    "# wrong order + right relation = 0.13333\n",
    "s1 = np.array([\n",
    "    [[20, 10, 0], [50, 30, 100]],\n",
    "    [[50, 30, 100], [180, 20, 20]],\n",
    "    [[180, 20, 20], [30, 15, 0]]\n",
    "], dtype=np.double)\n",
    "\n",
    "s2 = np.array([\n",
    "    [[180, 20, 20], [20, 10, 5]],\n",
    "    [[20, 10, 5], [30, 16, 1]],\n",
    "    [[30, 16, 1], [50, 29, 120]]\n",
    "], dtype=np.double)"
   ],
   "id": "3942fa6b5fc85997",
   "outputs": [],
   "execution_count": 52
  },
  {
   "metadata": {
    "ExecuteTime": {
     "end_time": "2024-11-04T09:11:37.037311Z",
     "start_time": "2024-11-04T09:11:37.027301Z"
    }
   },
   "cell_type": "code",
   "source": [
    "# right order + right relation = 0.199999\n",
    "s1 = np.array([\n",
    "    [[20, 10, 0], [50, 30, 100]],\n",
    "    [[50, 30, 100], [180, 20, 20]],\n",
    "    [[180, 20, 20], [30, 15, 0]]\n",
    "], dtype=np.double)\n",
    "\n",
    "s2 = np.array([\n",
    "    [[18, 12, 5], [47, 35, 110]],\n",
    "    [[47, 35, 110], [200, 18, 40]],\n",
    "    [[200, 18, 40], [30, 9, 4]]\n",
    "], dtype=np.double)"
   ],
   "id": "d7b9e5341184ade",
   "outputs": [],
   "execution_count": 54
  },
  {
   "metadata": {
    "ExecuteTime": {
     "end_time": "2024-11-04T09:15:17.764921Z",
     "start_time": "2024-11-04T09:15:17.753293Z"
    }
   },
   "cell_type": "code",
   "source": [
    "# right order + wrong relation = 0.0888888888\n",
    "s1 = np.array([\n",
    "    [[20, 10, 0], [50, 30, 100]],\n",
    "    [[50, 30, 100], [180, 20, 20]],\n",
    "    [[180, 20, 20], [30, 15, 0]]\n",
    "], dtype=np.double)\n",
    "\n",
    "s2 = np.array([\n",
    "    [[20, 10, 20], [180, 20, 100]],\n",
    "    [[180, 20, 100], [50, 35, 40]],\n",
    "    [[50, 35, 40], [30, 15, 30]]\n",
    "], dtype=np.double)"
   ],
   "id": "715ec45a4e824abf",
   "outputs": [],
   "execution_count": 62
  },
  {
   "metadata": {
    "ExecuteTime": {
     "end_time": "2024-11-04T08:43:41.590085Z",
     "start_time": "2024-11-04T08:43:41.583392Z"
    }
   },
   "cell_type": "code",
   "source": [
    "# 检查两个数组形状是否一致\n",
    "assert s1.shape == s2.shape, \"s1 和 s2 形状必须相同\""
   ],
   "id": "7456af1ddb07ed04",
   "outputs": [],
   "execution_count": 24
  },
  {
   "metadata": {
    "ExecuteTime": {
     "end_time": "2024-11-04T09:11:43.062292Z",
     "start_time": "2024-11-04T09:11:43.052267Z"
    }
   },
   "cell_type": "code",
   "source": [
    "n_samples, n_timesteps, n_features = s1.shape\n",
    "mdd_total = 0.0\n",
    "count = 0\n",
    "n_bins = n_samples  # 设置区间数量为样本数量，以确保每个时间步都能处理\n",
    "\n",
    "for i in range(n_features):\n",
    "    for t in range(n_timesteps):\n",
    "        # 取出每个时间步、每个特征的样本值\n",
    "        x_real_ti = s1[:, t, i]\n",
    "        x_fake_ti = s2[:, t, i]\n",
    "        \n",
    "        # 计算 x_real 和 x_fake 的直方图密度\n",
    "        density_real, bin_edges = np.histogram(x_real_ti, bins=n_bins, density=True)\n",
    "        density_fake, _ = np.histogram(x_fake_ti, bins=bin_edges, density=True)\n",
    "        \n",
    "        # 计算每个 bin 的密度差异\n",
    "        density_diff = np.abs(density_real - density_fake)\n",
    "        \n",
    "        # 使用密度差异的平均值作为当前时间步和特征的损失\n",
    "        mdd_total += np.mean(density_diff)\n",
    "        count += 1\n",
    "\n",
    "# 计算所有时间步和特征维度的平均 MDD\n",
    "mdd = mdd_total / count\n",
    "print(\"边际分布差异 (MDD):\", mdd)"
   ],
   "id": "e18a815c1fcc3d04",
   "outputs": [
    {
     "name": "stdout",
     "output_type": "stream",
     "text": [
      "边际分布差异 (MDD): 0.015185185185185185\n"
     ]
    }
   ],
   "execution_count": 57
  }
 ],
 "metadata": {
  "kernelspec": {
   "display_name": "Python 3",
   "language": "python",
   "name": "python3"
  },
  "language_info": {
   "codemirror_mode": {
    "name": "ipython",
    "version": 2
   },
   "file_extension": ".py",
   "mimetype": "text/x-python",
   "name": "python",
   "nbconvert_exporter": "python",
   "pygments_lexer": "ipython2",
   "version": "2.7.6"
  }
 },
 "nbformat": 4,
 "nbformat_minor": 5
}
